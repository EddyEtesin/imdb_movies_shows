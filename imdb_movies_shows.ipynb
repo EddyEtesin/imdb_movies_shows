{
 "cells": [
  {
   "cell_type": "code",
   "execution_count": 217,
   "id": "2e4d30f3-1000-4072-bd12-fefcb2638208",
   "metadata": {},
   "outputs": [],
   "source": [
    "import pandas as pd\n",
    "import matplotlib.pyplot as plt\n",
    "import numpy as np\n",
    "import seaborn as sns"
   ]
  },
  {
   "cell_type": "code",
   "execution_count": 3,
   "id": "8d3aa998-15d7-4035-9f92-36e68d90abdb",
   "metadata": {},
   "outputs": [],
   "source": [
    "df = pd.read_csv(r\"C:\\Users\\LENOVO\\Documents\\Web scrapped files\\project files\\imdb_movies_shows.csv\")"
   ]
  },
  {
   "cell_type": "code",
   "execution_count": 5,
   "id": "ebbf7d24-f0f0-4c02-a959-834f9c300aa0",
   "metadata": {},
   "outputs": [
    {
     "data": {
      "text/html": [
       "<div>\n",
       "<style scoped>\n",
       "    .dataframe tbody tr th:only-of-type {\n",
       "        vertical-align: middle;\n",
       "    }\n",
       "\n",
       "    .dataframe tbody tr th {\n",
       "        vertical-align: top;\n",
       "    }\n",
       "\n",
       "    .dataframe thead th {\n",
       "        text-align: right;\n",
       "    }\n",
       "</style>\n",
       "<table border=\"1\" class=\"dataframe\">\n",
       "  <thead>\n",
       "    <tr style=\"text-align: right;\">\n",
       "      <th></th>\n",
       "      <th>title</th>\n",
       "      <th>type</th>\n",
       "      <th>release_year</th>\n",
       "      <th>age_certification</th>\n",
       "      <th>runtime</th>\n",
       "      <th>genres</th>\n",
       "      <th>production_countries</th>\n",
       "      <th>seasons</th>\n",
       "      <th>imdb_id</th>\n",
       "      <th>imdb_score</th>\n",
       "      <th>imdb_votes</th>\n",
       "    </tr>\n",
       "  </thead>\n",
       "  <tbody>\n",
       "    <tr>\n",
       "      <th>0</th>\n",
       "      <td>Five Came Back: The Reference Films</td>\n",
       "      <td>SHOW</td>\n",
       "      <td>1945</td>\n",
       "      <td>TV-MA</td>\n",
       "      <td>48</td>\n",
       "      <td>['documentation']</td>\n",
       "      <td>['US']</td>\n",
       "      <td>1.0</td>\n",
       "      <td>NaN</td>\n",
       "      <td>NaN</td>\n",
       "      <td>NaN</td>\n",
       "    </tr>\n",
       "    <tr>\n",
       "      <th>1</th>\n",
       "      <td>Taxi Driver</td>\n",
       "      <td>MOVIE</td>\n",
       "      <td>1976</td>\n",
       "      <td>R</td>\n",
       "      <td>113</td>\n",
       "      <td>['crime', 'drama']</td>\n",
       "      <td>['US']</td>\n",
       "      <td>NaN</td>\n",
       "      <td>tt0075314</td>\n",
       "      <td>8.3</td>\n",
       "      <td>795222.0</td>\n",
       "    </tr>\n",
       "    <tr>\n",
       "      <th>2</th>\n",
       "      <td>Monty Python and the Holy Grail</td>\n",
       "      <td>MOVIE</td>\n",
       "      <td>1975</td>\n",
       "      <td>PG</td>\n",
       "      <td>91</td>\n",
       "      <td>['comedy', 'fantasy']</td>\n",
       "      <td>['GB']</td>\n",
       "      <td>NaN</td>\n",
       "      <td>tt0071853</td>\n",
       "      <td>8.2</td>\n",
       "      <td>530877.0</td>\n",
       "    </tr>\n",
       "    <tr>\n",
       "      <th>3</th>\n",
       "      <td>Life of Brian</td>\n",
       "      <td>MOVIE</td>\n",
       "      <td>1979</td>\n",
       "      <td>R</td>\n",
       "      <td>94</td>\n",
       "      <td>['comedy']</td>\n",
       "      <td>['GB']</td>\n",
       "      <td>NaN</td>\n",
       "      <td>tt0079470</td>\n",
       "      <td>8.0</td>\n",
       "      <td>392419.0</td>\n",
       "    </tr>\n",
       "    <tr>\n",
       "      <th>4</th>\n",
       "      <td>The Exorcist</td>\n",
       "      <td>MOVIE</td>\n",
       "      <td>1973</td>\n",
       "      <td>R</td>\n",
       "      <td>133</td>\n",
       "      <td>['horror']</td>\n",
       "      <td>['US']</td>\n",
       "      <td>NaN</td>\n",
       "      <td>tt0070047</td>\n",
       "      <td>8.1</td>\n",
       "      <td>391942.0</td>\n",
       "    </tr>\n",
       "    <tr>\n",
       "      <th>...</th>\n",
       "      <td>...</td>\n",
       "      <td>...</td>\n",
       "      <td>...</td>\n",
       "      <td>...</td>\n",
       "      <td>...</td>\n",
       "      <td>...</td>\n",
       "      <td>...</td>\n",
       "      <td>...</td>\n",
       "      <td>...</td>\n",
       "      <td>...</td>\n",
       "      <td>...</td>\n",
       "    </tr>\n",
       "    <tr>\n",
       "      <th>5801</th>\n",
       "      <td>Fine Wine</td>\n",
       "      <td>MOVIE</td>\n",
       "      <td>2021</td>\n",
       "      <td>NaN</td>\n",
       "      <td>100</td>\n",
       "      <td>['romance', 'drama']</td>\n",
       "      <td>['NG']</td>\n",
       "      <td>NaN</td>\n",
       "      <td>tt13857480</td>\n",
       "      <td>6.9</td>\n",
       "      <td>39.0</td>\n",
       "    </tr>\n",
       "    <tr>\n",
       "      <th>5802</th>\n",
       "      <td>Edis Starlight</td>\n",
       "      <td>MOVIE</td>\n",
       "      <td>2021</td>\n",
       "      <td>NaN</td>\n",
       "      <td>74</td>\n",
       "      <td>['music', 'documentation']</td>\n",
       "      <td>[]</td>\n",
       "      <td>NaN</td>\n",
       "      <td>NaN</td>\n",
       "      <td>NaN</td>\n",
       "      <td>NaN</td>\n",
       "    </tr>\n",
       "    <tr>\n",
       "      <th>5803</th>\n",
       "      <td>Clash</td>\n",
       "      <td>MOVIE</td>\n",
       "      <td>2021</td>\n",
       "      <td>NaN</td>\n",
       "      <td>88</td>\n",
       "      <td>['family', 'drama']</td>\n",
       "      <td>['NG', 'CA']</td>\n",
       "      <td>NaN</td>\n",
       "      <td>tt14620732</td>\n",
       "      <td>6.5</td>\n",
       "      <td>32.0</td>\n",
       "    </tr>\n",
       "    <tr>\n",
       "      <th>5804</th>\n",
       "      <td>Shadow Parties</td>\n",
       "      <td>MOVIE</td>\n",
       "      <td>2021</td>\n",
       "      <td>NaN</td>\n",
       "      <td>116</td>\n",
       "      <td>['action', 'thriller']</td>\n",
       "      <td>[]</td>\n",
       "      <td>NaN</td>\n",
       "      <td>tt10168094</td>\n",
       "      <td>6.2</td>\n",
       "      <td>9.0</td>\n",
       "    </tr>\n",
       "    <tr>\n",
       "      <th>5805</th>\n",
       "      <td>Mighty Little Bheem: Kite Festival</td>\n",
       "      <td>SHOW</td>\n",
       "      <td>2021</td>\n",
       "      <td>NaN</td>\n",
       "      <td>0</td>\n",
       "      <td>['family', 'comedy', 'animation']</td>\n",
       "      <td>[]</td>\n",
       "      <td>1.0</td>\n",
       "      <td>tt13711094</td>\n",
       "      <td>8.8</td>\n",
       "      <td>16.0</td>\n",
       "    </tr>\n",
       "  </tbody>\n",
       "</table>\n",
       "<p>5806 rows × 11 columns</p>\n",
       "</div>"
      ],
      "text/plain": [
       "                                    title   type  release_year  \\\n",
       "0     Five Came Back: The Reference Films   SHOW          1945   \n",
       "1                             Taxi Driver  MOVIE          1976   \n",
       "2         Monty Python and the Holy Grail  MOVIE          1975   \n",
       "3                           Life of Brian  MOVIE          1979   \n",
       "4                            The Exorcist  MOVIE          1973   \n",
       "...                                   ...    ...           ...   \n",
       "5801                            Fine Wine  MOVIE          2021   \n",
       "5802                       Edis Starlight  MOVIE          2021   \n",
       "5803                                Clash  MOVIE          2021   \n",
       "5804                       Shadow Parties  MOVIE          2021   \n",
       "5805   Mighty Little Bheem: Kite Festival   SHOW          2021   \n",
       "\n",
       "     age_certification  runtime                             genres  \\\n",
       "0                TV-MA       48                  ['documentation']   \n",
       "1                    R      113                 ['crime', 'drama']   \n",
       "2                   PG       91              ['comedy', 'fantasy']   \n",
       "3                    R       94                         ['comedy']   \n",
       "4                    R      133                         ['horror']   \n",
       "...                ...      ...                                ...   \n",
       "5801               NaN      100               ['romance', 'drama']   \n",
       "5802               NaN       74         ['music', 'documentation']   \n",
       "5803               NaN       88                ['family', 'drama']   \n",
       "5804               NaN      116             ['action', 'thriller']   \n",
       "5805               NaN        0  ['family', 'comedy', 'animation']   \n",
       "\n",
       "     production_countries  seasons     imdb_id  imdb_score  imdb_votes  \n",
       "0                  ['US']      1.0         NaN         NaN         NaN  \n",
       "1                  ['US']      NaN   tt0075314         8.3    795222.0  \n",
       "2                  ['GB']      NaN   tt0071853         8.2    530877.0  \n",
       "3                  ['GB']      NaN   tt0079470         8.0    392419.0  \n",
       "4                  ['US']      NaN   tt0070047         8.1    391942.0  \n",
       "...                   ...      ...         ...         ...         ...  \n",
       "5801               ['NG']      NaN  tt13857480         6.9        39.0  \n",
       "5802                   []      NaN         NaN         NaN         NaN  \n",
       "5803         ['NG', 'CA']      NaN  tt14620732         6.5        32.0  \n",
       "5804                   []      NaN  tt10168094         6.2         9.0  \n",
       "5805                   []      1.0  tt13711094         8.8        16.0  \n",
       "\n",
       "[5806 rows x 11 columns]"
      ]
     },
     "execution_count": 5,
     "metadata": {},
     "output_type": "execute_result"
    }
   ],
   "source": [
    "df"
   ]
  },
  {
   "cell_type": "code",
   "execution_count": 9,
   "id": "52485ae2-863c-453f-9ab3-7fcf51f7c714",
   "metadata": {},
   "outputs": [
    {
     "name": "stdout",
     "output_type": "stream",
     "text": [
      "<class 'pandas.core.frame.DataFrame'>\n",
      "RangeIndex: 5806 entries, 0 to 5805\n",
      "Data columns (total 11 columns):\n",
      " #   Column                Non-Null Count  Dtype  \n",
      "---  ------                --------------  -----  \n",
      " 0   title                 5805 non-null   object \n",
      " 1   type                  5806 non-null   object \n",
      " 2   release_year          5806 non-null   int64  \n",
      " 3   age_certification     3196 non-null   object \n",
      " 4   runtime               5806 non-null   int64  \n",
      " 5   genres                5806 non-null   object \n",
      " 6   production_countries  5806 non-null   object \n",
      " 7   seasons               2047 non-null   float64\n",
      " 8   imdb_id               5362 non-null   object \n",
      " 9   imdb_score            5283 non-null   float64\n",
      " 10  imdb_votes            5267 non-null   float64\n",
      "dtypes: float64(3), int64(2), object(6)\n",
      "memory usage: 499.1+ KB\n"
     ]
    }
   ],
   "source": [
    "df.info()"
   ]
  },
  {
   "cell_type": "code",
   "execution_count": 11,
   "id": "23045f42-7971-4513-a03f-3d10f57c946e",
   "metadata": {},
   "outputs": [
    {
     "data": {
      "text/html": [
       "<div>\n",
       "<style scoped>\n",
       "    .dataframe tbody tr th:only-of-type {\n",
       "        vertical-align: middle;\n",
       "    }\n",
       "\n",
       "    .dataframe tbody tr th {\n",
       "        vertical-align: top;\n",
       "    }\n",
       "\n",
       "    .dataframe thead th {\n",
       "        text-align: right;\n",
       "    }\n",
       "</style>\n",
       "<table border=\"1\" class=\"dataframe\">\n",
       "  <thead>\n",
       "    <tr style=\"text-align: right;\">\n",
       "      <th></th>\n",
       "      <th>title</th>\n",
       "      <th>type</th>\n",
       "      <th>release_year</th>\n",
       "      <th>age_certification</th>\n",
       "      <th>runtime</th>\n",
       "      <th>genres</th>\n",
       "      <th>production_countries</th>\n",
       "      <th>seasons</th>\n",
       "      <th>imdb_id</th>\n",
       "      <th>imdb_score</th>\n",
       "      <th>imdb_votes</th>\n",
       "    </tr>\n",
       "  </thead>\n",
       "  <tbody>\n",
       "    <tr>\n",
       "      <th>0</th>\n",
       "      <td>Five Came Back: The Reference Films</td>\n",
       "      <td>SHOW</td>\n",
       "      <td>1945</td>\n",
       "      <td>TV-MA</td>\n",
       "      <td>48</td>\n",
       "      <td>['documentation']</td>\n",
       "      <td>['US']</td>\n",
       "      <td>1.0</td>\n",
       "      <td>NaN</td>\n",
       "      <td>NaN</td>\n",
       "      <td>NaN</td>\n",
       "    </tr>\n",
       "    <tr>\n",
       "      <th>1</th>\n",
       "      <td>Taxi Driver</td>\n",
       "      <td>MOVIE</td>\n",
       "      <td>1976</td>\n",
       "      <td>R</td>\n",
       "      <td>113</td>\n",
       "      <td>['crime', 'drama']</td>\n",
       "      <td>['US']</td>\n",
       "      <td>NaN</td>\n",
       "      <td>tt0075314</td>\n",
       "      <td>8.3</td>\n",
       "      <td>795222.0</td>\n",
       "    </tr>\n",
       "    <tr>\n",
       "      <th>2</th>\n",
       "      <td>Monty Python and the Holy Grail</td>\n",
       "      <td>MOVIE</td>\n",
       "      <td>1975</td>\n",
       "      <td>PG</td>\n",
       "      <td>91</td>\n",
       "      <td>['comedy', 'fantasy']</td>\n",
       "      <td>['GB']</td>\n",
       "      <td>NaN</td>\n",
       "      <td>tt0071853</td>\n",
       "      <td>8.2</td>\n",
       "      <td>530877.0</td>\n",
       "    </tr>\n",
       "    <tr>\n",
       "      <th>3</th>\n",
       "      <td>Life of Brian</td>\n",
       "      <td>MOVIE</td>\n",
       "      <td>1979</td>\n",
       "      <td>R</td>\n",
       "      <td>94</td>\n",
       "      <td>['comedy']</td>\n",
       "      <td>['GB']</td>\n",
       "      <td>NaN</td>\n",
       "      <td>tt0079470</td>\n",
       "      <td>8.0</td>\n",
       "      <td>392419.0</td>\n",
       "    </tr>\n",
       "    <tr>\n",
       "      <th>4</th>\n",
       "      <td>The Exorcist</td>\n",
       "      <td>MOVIE</td>\n",
       "      <td>1973</td>\n",
       "      <td>R</td>\n",
       "      <td>133</td>\n",
       "      <td>['horror']</td>\n",
       "      <td>['US']</td>\n",
       "      <td>NaN</td>\n",
       "      <td>tt0070047</td>\n",
       "      <td>8.1</td>\n",
       "      <td>391942.0</td>\n",
       "    </tr>\n",
       "  </tbody>\n",
       "</table>\n",
       "</div>"
      ],
      "text/plain": [
       "                                 title   type  release_year age_certification  \\\n",
       "0  Five Came Back: The Reference Films   SHOW          1945             TV-MA   \n",
       "1                          Taxi Driver  MOVIE          1976                 R   \n",
       "2      Monty Python and the Holy Grail  MOVIE          1975                PG   \n",
       "3                        Life of Brian  MOVIE          1979                 R   \n",
       "4                         The Exorcist  MOVIE          1973                 R   \n",
       "\n",
       "   runtime                 genres production_countries  seasons    imdb_id  \\\n",
       "0       48      ['documentation']               ['US']      1.0        NaN   \n",
       "1      113     ['crime', 'drama']               ['US']      NaN  tt0075314   \n",
       "2       91  ['comedy', 'fantasy']               ['GB']      NaN  tt0071853   \n",
       "3       94             ['comedy']               ['GB']      NaN  tt0079470   \n",
       "4      133             ['horror']               ['US']      NaN  tt0070047   \n",
       "\n",
       "   imdb_score  imdb_votes  \n",
       "0         NaN         NaN  \n",
       "1         8.3    795222.0  \n",
       "2         8.2    530877.0  \n",
       "3         8.0    392419.0  \n",
       "4         8.1    391942.0  "
      ]
     },
     "execution_count": 11,
     "metadata": {},
     "output_type": "execute_result"
    }
   ],
   "source": [
    "df.head()"
   ]
  },
  {
   "cell_type": "code",
   "execution_count": 13,
   "id": "9020d7b7-d438-4af5-9fa1-daac91ad0dd3",
   "metadata": {},
   "outputs": [
    {
     "name": "stdout",
     "output_type": "stream",
     "text": [
      "                                    title   type  release_year  \\\n",
      "0     Five Came Back: The Reference Films   SHOW          1945   \n",
      "1                             Taxi Driver  MOVIE          1976   \n",
      "2         Monty Python and the Holy Grail  MOVIE          1975   \n",
      "3                           Life of Brian  MOVIE          1979   \n",
      "4                            The Exorcist  MOVIE          1973   \n",
      "...                                   ...    ...           ...   \n",
      "5801                            Fine Wine  MOVIE          2021   \n",
      "5802                       Edis Starlight  MOVIE          2021   \n",
      "5803                                Clash  MOVIE          2021   \n",
      "5804                       Shadow Parties  MOVIE          2021   \n",
      "5805   Mighty Little Bheem: Kite Festival   SHOW          2021   \n",
      "\n",
      "     age_certification  runtime                             genres  \\\n",
      "0                TV-MA       48                  ['documentation']   \n",
      "1                    R      113                 ['crime', 'drama']   \n",
      "2                   PG       91              ['comedy', 'fantasy']   \n",
      "3                    R       94                         ['comedy']   \n",
      "4                    R      133                         ['horror']   \n",
      "...                ...      ...                                ...   \n",
      "5801               NaN      100               ['romance', 'drama']   \n",
      "5802               NaN       74         ['music', 'documentation']   \n",
      "5803               NaN       88                ['family', 'drama']   \n",
      "5804               NaN      116             ['action', 'thriller']   \n",
      "5805               NaN        0  ['family', 'comedy', 'animation']   \n",
      "\n",
      "     production_countries  seasons     imdb_id  imdb_score  imdb_votes  \n",
      "0                  ['US']      1.0         NaN         NaN         NaN  \n",
      "1                  ['US']      NaN   tt0075314         8.3    795222.0  \n",
      "2                  ['GB']      NaN   tt0071853         8.2    530877.0  \n",
      "3                  ['GB']      NaN   tt0079470         8.0    392419.0  \n",
      "4                  ['US']      NaN   tt0070047         8.1    391942.0  \n",
      "...                   ...      ...         ...         ...         ...  \n",
      "5801               ['NG']      NaN  tt13857480         6.9        39.0  \n",
      "5802                   []      NaN         NaN         NaN         NaN  \n",
      "5803         ['NG', 'CA']      NaN  tt14620732         6.5        32.0  \n",
      "5804                   []      NaN  tt10168094         6.2         9.0  \n",
      "5805                   []      1.0  tt13711094         8.8        16.0  \n",
      "\n",
      "[5806 rows x 11 columns]\n"
     ]
    }
   ],
   "source": [
    "print(df)"
   ]
  },
  {
   "cell_type": "code",
   "execution_count": 15,
   "id": "7698bea2-fb52-4a20-b8e3-977d896c1ce0",
   "metadata": {},
   "outputs": [
    {
     "data": {
      "text/plain": [
       "type\n",
       "MOVIE    3759\n",
       "SHOW     2047\n",
       "Name: count, dtype: int64"
      ]
     },
     "execution_count": 15,
     "metadata": {},
     "output_type": "execute_result"
    }
   ],
   "source": [
    "df[\"type\"].value_counts()"
   ]
  },
  {
   "cell_type": "code",
   "execution_count": 17,
   "id": "177d62c4-51d0-4712-8a8e-720c5300aed8",
   "metadata": {},
   "outputs": [
    {
     "data": {
      "text/html": [
       "<div>\n",
       "<style scoped>\n",
       "    .dataframe tbody tr th:only-of-type {\n",
       "        vertical-align: middle;\n",
       "    }\n",
       "\n",
       "    .dataframe tbody tr th {\n",
       "        vertical-align: top;\n",
       "    }\n",
       "\n",
       "    .dataframe thead th {\n",
       "        text-align: right;\n",
       "    }\n",
       "</style>\n",
       "<table border=\"1\" class=\"dataframe\">\n",
       "  <thead>\n",
       "    <tr style=\"text-align: right;\">\n",
       "      <th></th>\n",
       "      <th>title</th>\n",
       "      <th>type</th>\n",
       "      <th>release_year</th>\n",
       "      <th>age_certification</th>\n",
       "      <th>runtime</th>\n",
       "      <th>genres</th>\n",
       "      <th>production_countries</th>\n",
       "      <th>seasons</th>\n",
       "      <th>imdb_id</th>\n",
       "      <th>imdb_score</th>\n",
       "      <th>imdb_votes</th>\n",
       "    </tr>\n",
       "  </thead>\n",
       "  <tbody>\n",
       "    <tr>\n",
       "      <th>0</th>\n",
       "      <td>Five Came Back: The Reference Films</td>\n",
       "      <td>SHOW</td>\n",
       "      <td>1945</td>\n",
       "      <td>TV-MA</td>\n",
       "      <td>48</td>\n",
       "      <td>['documentation']</td>\n",
       "      <td>['US']</td>\n",
       "      <td>1.0</td>\n",
       "      <td>NaN</td>\n",
       "      <td>NaN</td>\n",
       "      <td>NaN</td>\n",
       "    </tr>\n",
       "    <tr>\n",
       "      <th>1</th>\n",
       "      <td>Taxi Driver</td>\n",
       "      <td>MOVIE</td>\n",
       "      <td>1976</td>\n",
       "      <td>R</td>\n",
       "      <td>113</td>\n",
       "      <td>['crime', 'drama']</td>\n",
       "      <td>['US']</td>\n",
       "      <td>NaN</td>\n",
       "      <td>tt0075314</td>\n",
       "      <td>8.3</td>\n",
       "      <td>795222.0</td>\n",
       "    </tr>\n",
       "    <tr>\n",
       "      <th>2</th>\n",
       "      <td>Monty Python and the Holy Grail</td>\n",
       "      <td>MOVIE</td>\n",
       "      <td>1975</td>\n",
       "      <td>PG</td>\n",
       "      <td>91</td>\n",
       "      <td>['comedy', 'fantasy']</td>\n",
       "      <td>['GB']</td>\n",
       "      <td>NaN</td>\n",
       "      <td>tt0071853</td>\n",
       "      <td>8.2</td>\n",
       "      <td>530877.0</td>\n",
       "    </tr>\n",
       "    <tr>\n",
       "      <th>3</th>\n",
       "      <td>Life of Brian</td>\n",
       "      <td>MOVIE</td>\n",
       "      <td>1979</td>\n",
       "      <td>R</td>\n",
       "      <td>94</td>\n",
       "      <td>['comedy']</td>\n",
       "      <td>['GB']</td>\n",
       "      <td>NaN</td>\n",
       "      <td>tt0079470</td>\n",
       "      <td>8.0</td>\n",
       "      <td>392419.0</td>\n",
       "    </tr>\n",
       "    <tr>\n",
       "      <th>4</th>\n",
       "      <td>The Exorcist</td>\n",
       "      <td>MOVIE</td>\n",
       "      <td>1973</td>\n",
       "      <td>R</td>\n",
       "      <td>133</td>\n",
       "      <td>['horror']</td>\n",
       "      <td>['US']</td>\n",
       "      <td>NaN</td>\n",
       "      <td>tt0070047</td>\n",
       "      <td>8.1</td>\n",
       "      <td>391942.0</td>\n",
       "    </tr>\n",
       "  </tbody>\n",
       "</table>\n",
       "</div>"
      ],
      "text/plain": [
       "                                 title   type  release_year age_certification  \\\n",
       "0  Five Came Back: The Reference Films   SHOW          1945             TV-MA   \n",
       "1                          Taxi Driver  MOVIE          1976                 R   \n",
       "2      Monty Python and the Holy Grail  MOVIE          1975                PG   \n",
       "3                        Life of Brian  MOVIE          1979                 R   \n",
       "4                         The Exorcist  MOVIE          1973                 R   \n",
       "\n",
       "   runtime                 genres production_countries  seasons    imdb_id  \\\n",
       "0       48      ['documentation']               ['US']      1.0        NaN   \n",
       "1      113     ['crime', 'drama']               ['US']      NaN  tt0075314   \n",
       "2       91  ['comedy', 'fantasy']               ['GB']      NaN  tt0071853   \n",
       "3       94             ['comedy']               ['GB']      NaN  tt0079470   \n",
       "4      133             ['horror']               ['US']      NaN  tt0070047   \n",
       "\n",
       "   imdb_score  imdb_votes  \n",
       "0         NaN         NaN  \n",
       "1         8.3    795222.0  \n",
       "2         8.2    530877.0  \n",
       "3         8.0    392419.0  \n",
       "4         8.1    391942.0  "
      ]
     },
     "execution_count": 17,
     "metadata": {},
     "output_type": "execute_result"
    }
   ],
   "source": [
    "df.head()"
   ]
  },
  {
   "cell_type": "code",
   "execution_count": 25,
   "id": "8029f3dc-4cdf-408b-9d11-2671df956d4f",
   "metadata": {},
   "outputs": [
    {
     "data": {
      "text/html": [
       "<div>\n",
       "<style scoped>\n",
       "    .dataframe tbody tr th:only-of-type {\n",
       "        vertical-align: middle;\n",
       "    }\n",
       "\n",
       "    .dataframe tbody tr th {\n",
       "        vertical-align: top;\n",
       "    }\n",
       "\n",
       "    .dataframe thead th {\n",
       "        text-align: right;\n",
       "    }\n",
       "</style>\n",
       "<table border=\"1\" class=\"dataframe\">\n",
       "  <thead>\n",
       "    <tr style=\"text-align: right;\">\n",
       "      <th></th>\n",
       "      <th>title</th>\n",
       "      <th>imdb_score</th>\n",
       "    </tr>\n",
       "  </thead>\n",
       "  <tbody>\n",
       "    <tr>\n",
       "      <th>656</th>\n",
       "      <td>Khawatir</td>\n",
       "      <td>9.6</td>\n",
       "    </tr>\n",
       "    <tr>\n",
       "      <th>2927</th>\n",
       "      <td>#ABtalks</td>\n",
       "      <td>9.6</td>\n",
       "    </tr>\n",
       "    <tr>\n",
       "      <th>243</th>\n",
       "      <td>Breaking Bad</td>\n",
       "      <td>9.5</td>\n",
       "    </tr>\n",
       "    <tr>\n",
       "      <th>3320</th>\n",
       "      <td>Our Planet</td>\n",
       "      <td>9.3</td>\n",
       "    </tr>\n",
       "    <tr>\n",
       "      <th>3827</th>\n",
       "      <td>Kota Factory</td>\n",
       "      <td>9.3</td>\n",
       "    </tr>\n",
       "    <tr>\n",
       "      <th>259</th>\n",
       "      <td>Avatar: The Last Airbender</td>\n",
       "      <td>9.3</td>\n",
       "    </tr>\n",
       "    <tr>\n",
       "      <th>1422</th>\n",
       "      <td>Reply 1988</td>\n",
       "      <td>9.2</td>\n",
       "    </tr>\n",
       "    <tr>\n",
       "      <th>2057</th>\n",
       "      <td>My Mister</td>\n",
       "      <td>9.2</td>\n",
       "    </tr>\n",
       "    <tr>\n",
       "      <th>5059</th>\n",
       "      <td>Who Rules The World</td>\n",
       "      <td>9.2</td>\n",
       "    </tr>\n",
       "    <tr>\n",
       "      <th>3196</th>\n",
       "      <td>The Last Dance</td>\n",
       "      <td>9.1</td>\n",
       "    </tr>\n",
       "  </tbody>\n",
       "</table>\n",
       "</div>"
      ],
      "text/plain": [
       "                           title  imdb_score\n",
       "656                     Khawatir         9.6\n",
       "2927                    #ABtalks         9.6\n",
       "243                 Breaking Bad         9.5\n",
       "3320                  Our Planet         9.3\n",
       "3827                Kota Factory         9.3\n",
       "259   Avatar: The Last Airbender         9.3\n",
       "1422                  Reply 1988         9.2\n",
       "2057                   My Mister         9.2\n",
       "5059         Who Rules The World         9.2\n",
       "3196              The Last Dance         9.1"
      ]
     },
     "execution_count": 25,
     "metadata": {},
     "output_type": "execute_result"
    }
   ],
   "source": [
    "#What are the top 10 movies with the highest IMDB scores?\n",
    "top_movies_by_score = df.sort_values(by = 'imdb_score', ascending = False).head(10)\n",
    "top_movies_by_score[['title','imdb_score']]"
   ]
  },
  {
   "cell_type": "code",
   "execution_count": 147,
   "id": "c86f06e6-63bb-45ab-91a9-6b6fc17dec7a",
   "metadata": {},
   "outputs": [
    {
     "data": {
      "text/plain": [
       "[('drama', 2901),\n",
       " ('comedy', 2269),\n",
       " ('thriller', 1178),\n",
       " ('action', 1053),\n",
       " ('romance', 958)]"
      ]
     },
     "execution_count": 147,
     "metadata": {},
     "output_type": "execute_result"
    }
   ],
   "source": [
    "#Which genres are the most common in the dataset?\n",
    "from collections import Counter\n",
    "genres = df['genres'].str.strip(\"[]\").str.replace(\"'\", \"\").str.split(\", \")\n",
    "genre_counts = Counter([g for sublist in genres.dropna() for g in sublist])\n",
    "genre_counts.most_common(5)"
   ]
  },
  {
   "cell_type": "code",
   "execution_count": 35,
   "id": "3ce55a29-b634-4ea3-abe2-51364adfc2a9",
   "metadata": {},
   "outputs": [
    {
     "name": "stdout",
     "output_type": "stream",
     "text": [
      "The runtime average of a movie is 98.78531524341581 minutes, while a shows runtime is 38.82120175867123 minutes\n"
     ]
    }
   ],
   "source": [
    "#How does the average runtime of movies compare to that of TV shows?\n",
    "runtime_average = df.groupby(\"type\")[\"runtime\"].mean()\n",
    "print(f'The runtime average of a movie is {runtime_average['MOVIE']} minutes, while a shows runtime is {runtime_average['SHOW']} minutes')"
   ]
  },
  {
   "cell_type": "code",
   "execution_count": 157,
   "id": "a8bce5e9-8c82-4e1e-8259-de12e3e862c5",
   "metadata": {},
   "outputs": [
    {
     "data": {
      "text/plain": [
       "[('US', 2327), ('IN', 629), ('GB', 406), ('JP', 291), ('FR', 248)]"
      ]
     },
     "execution_count": 157,
     "metadata": {},
     "output_type": "execute_result"
    }
   ],
   "source": [
    "#Which production countries produce the most content in the dataset?\n",
    "production_countries = df['production_countries'].str.strip(\"[]\").str.replace(\"'\",\"\").str.split(\", \")\n",
    "country_counts = Counter([c for sublist in production_countries.dropna() for c in sublist])\n",
    "country_counts.most_common(5)"
   ]
  },
  {
   "cell_type": "code",
   "execution_count": 41,
   "id": "e306709c-4c7f-4eb3-acd7-eeb0e2522146",
   "metadata": {},
   "outputs": [
    {
     "data": {
      "text/plain": [
       "age_certification\n",
       "TV-MA    841\n",
       "R        575\n",
       "TV-14    470\n",
       "PG-13    440\n",
       "PG       246\n",
       "TV-PG    186\n",
       "G        131\n",
       "TV-Y7    112\n",
       "TV-Y     105\n",
       "TV-G      76\n",
       "NC-17     14\n",
       "Name: count, dtype: int64"
      ]
     },
     "execution_count": 41,
     "metadata": {},
     "output_type": "execute_result"
    }
   ],
   "source": [
    "#What is the distribution of age certifications (e.g., PG, R, TV-MA) across movies and TV shows?\n",
    "df['age_certification'].value_counts()"
   ]
  },
  {
   "cell_type": "code",
   "execution_count": 159,
   "id": "2b4c458f-0858-45bb-a92d-6ede158bb2da",
   "metadata": {},
   "outputs": [],
   "source": [
    "#How has the number of releases per year changed over time?\n",
    "releases_per_year = df[\"release_year\"].value_counts().sort_index()"
   ]
  },
  {
   "cell_type": "code",
   "execution_count": 163,
   "id": "b77225d6-497b-410b-b099-367775663286",
   "metadata": {},
   "outputs": [
    {
     "data": {
      "text/plain": [
       "release_year\n",
       "1945      1\n",
       "1953      1\n",
       "1954      2\n",
       "1956      1\n",
       "1958      1\n",
       "       ... \n",
       "2018    774\n",
       "2019    848\n",
       "2020    805\n",
       "2021    758\n",
       "2022    217\n",
       "Name: count, Length: 67, dtype: int64"
      ]
     },
     "execution_count": 163,
     "metadata": {},
     "output_type": "execute_result"
    }
   ],
   "source": [
    "releases_per_year"
   ]
  },
  {
   "cell_type": "code",
   "execution_count": 171,
   "id": "c27a59b6-8829-4ea3-a66a-5d10aa9b084d",
   "metadata": {},
   "outputs": [],
   "source": [
    "#Which movies or TV shows have the highest number of IMDB votes?\n",
    "most_voted = df.nlargest(5, 'imdb_votes')[['title', 'type', 'imdb_votes']]"
   ]
  },
  {
   "cell_type": "code",
   "execution_count": 173,
   "id": "9805c11c-fb7f-4dc1-ab24-d91b0e00defa",
   "metadata": {},
   "outputs": [
    {
     "data": {
      "text/html": [
       "<div>\n",
       "<style scoped>\n",
       "    .dataframe tbody tr th:only-of-type {\n",
       "        vertical-align: middle;\n",
       "    }\n",
       "\n",
       "    .dataframe tbody tr th {\n",
       "        vertical-align: top;\n",
       "    }\n",
       "\n",
       "    .dataframe thead th {\n",
       "        text-align: right;\n",
       "    }\n",
       "</style>\n",
       "<table border=\"1\" class=\"dataframe\">\n",
       "  <thead>\n",
       "    <tr style=\"text-align: right;\">\n",
       "      <th></th>\n",
       "      <th>title</th>\n",
       "      <th>type</th>\n",
       "      <th>imdb_votes</th>\n",
       "    </tr>\n",
       "  </thead>\n",
       "  <tbody>\n",
       "    <tr>\n",
       "      <th>260</th>\n",
       "      <td>Inception</td>\n",
       "      <td>MOVIE</td>\n",
       "      <td>2268288.0</td>\n",
       "    </tr>\n",
       "    <tr>\n",
       "      <th>108</th>\n",
       "      <td>Forrest Gump</td>\n",
       "      <td>MOVIE</td>\n",
       "      <td>1994599.0</td>\n",
       "    </tr>\n",
       "    <tr>\n",
       "      <th>243</th>\n",
       "      <td>Breaking Bad</td>\n",
       "      <td>SHOW</td>\n",
       "      <td>1727694.0</td>\n",
       "    </tr>\n",
       "    <tr>\n",
       "      <th>706</th>\n",
       "      <td>Django Unchained</td>\n",
       "      <td>MOVIE</td>\n",
       "      <td>1472668.0</td>\n",
       "    </tr>\n",
       "    <tr>\n",
       "      <th>111</th>\n",
       "      <td>Saving Private Ryan</td>\n",
       "      <td>MOVIE</td>\n",
       "      <td>1346020.0</td>\n",
       "    </tr>\n",
       "  </tbody>\n",
       "</table>\n",
       "</div>"
      ],
      "text/plain": [
       "                   title   type  imdb_votes\n",
       "260            Inception  MOVIE   2268288.0\n",
       "108         Forrest Gump  MOVIE   1994599.0\n",
       "243         Breaking Bad   SHOW   1727694.0\n",
       "706     Django Unchained  MOVIE   1472668.0\n",
       "111  Saving Private Ryan  MOVIE   1346020.0"
      ]
     },
     "execution_count": 173,
     "metadata": {},
     "output_type": "execute_result"
    }
   ],
   "source": [
    "most_voted"
   ]
  },
  {
   "cell_type": "code",
   "execution_count": 183,
   "id": "04ab883f-8e99-40d9-9c46-62ea5b468bb7",
   "metadata": {},
   "outputs": [
    {
     "data": {
      "text/plain": [
       "-0.15929652102977776"
      ]
     },
     "execution_count": 183,
     "metadata": {},
     "output_type": "execute_result"
    }
   ],
   "source": [
    "#Are there any correlations between runtime and IMDB score?\n",
    "df[['runtime','imdb_score']].corr().iloc[0,1]"
   ]
  },
  {
   "cell_type": "code",
   "execution_count": 113,
   "id": "93261b33-be8c-4113-84c2-8e5183b7a77b",
   "metadata": {},
   "outputs": [
    {
     "data": {
      "text/plain": [
       "539"
      ]
     },
     "execution_count": 113,
     "metadata": {},
     "output_type": "execute_result"
    }
   ],
   "source": [
    "#Which titles have missing IMDB scores or votes, and how many are there?\n",
    "missing_values = df[df['imdb_score'].isna() | df['imdb_votes'].isna()]\n",
    "missing_values.shape[0]"
   ]
  },
  {
   "cell_type": "code",
   "execution_count": null,
   "id": "5f8b4691-357f-4fb8-94bf-4600f9bc9ee0",
   "metadata": {},
   "outputs": [],
   "source": [
    "#How many seasons do most TV shows have, and what is the average?"
   ]
  },
  {
   "cell_type": "code",
   "execution_count": 119,
   "id": "f9b4f805-07ae-47d2-a724-ec5eacf8aeff",
   "metadata": {},
   "outputs": [],
   "source": [
    "shows = df[df['type'] == \"SHOW\"]"
   ]
  },
  {
   "cell_type": "code",
   "execution_count": 121,
   "id": "30afcb18-ca45-4071-a9f5-8bf921fcaac4",
   "metadata": {},
   "outputs": [
    {
     "data": {
      "text/plain": [
       "seasons\n",
       "1.0     1187\n",
       "2.0      374\n",
       "3.0      181\n",
       "4.0      116\n",
       "5.0       76\n",
       "6.0       40\n",
       "7.0       16\n",
       "8.0       14\n",
       "9.0        9\n",
       "11.0       7\n",
       "10.0       5\n",
       "15.0       4\n",
       "12.0       4\n",
       "24.0       3\n",
       "13.0       2\n",
       "14.0       2\n",
       "19.0       1\n",
       "18.0       1\n",
       "29.0       1\n",
       "21.0       1\n",
       "42.0       1\n",
       "39.0       1\n",
       "37.0       1\n",
       "Name: count, dtype: int64"
      ]
     },
     "execution_count": 121,
     "metadata": {},
     "output_type": "execute_result"
    }
   ],
   "source": [
    "shows['seasons'].value_counts()"
   ]
  },
  {
   "cell_type": "code",
   "execution_count": 123,
   "id": "f9bf4520-4d18-4d92-b24d-116bd28d6a27",
   "metadata": {},
   "outputs": [
    {
     "data": {
      "text/plain": [
       "2.1656082071323888"
      ]
     },
     "execution_count": 123,
     "metadata": {},
     "output_type": "execute_result"
    }
   ],
   "source": [
    "shows['seasons'].mean()"
   ]
  },
  {
   "cell_type": "code",
   "execution_count": 125,
   "id": "14e93050-12cf-40d5-9ba0-99e5d7219e56",
   "metadata": {},
   "outputs": [
    {
     "data": {
      "text/plain": [
       "'Most shows have one season , while the average season for shows is 2'"
      ]
     },
     "execution_count": 125,
     "metadata": {},
     "output_type": "execute_result"
    }
   ],
   "source": [
    "\"\"\"Most shows have one season , while the average season for shows is 2\"\"\""
   ]
  },
  {
   "cell_type": "code",
   "execution_count": 133,
   "id": "f4fdad08-8669-4625-b70a-d15a731836b9",
   "metadata": {},
   "outputs": [
    {
     "data": {
      "text/plain": [
       "('A Lion in the House', 'Afronta!')"
      ]
     },
     "execution_count": 133,
     "metadata": {},
     "output_type": "execute_result"
    }
   ],
   "source": [
    "#Which titles have the longest and shortest runtimes?\n",
    "df.head()\n",
    "longest = df.groupby('title')[\"runtime\"].sum().idxmax()\n",
    "shortest = df.groupby('title')[\"runtime\"].sum().idxmin()\n",
    "longest , shortest"
   ]
  },
  {
   "cell_type": "code",
   "execution_count": 139,
   "id": "a7c66e58-a760-43ed-bdf1-3f8efdcad3fc",
   "metadata": {},
   "outputs": [
    {
     "data": {
      "text/plain": [
       "1416"
      ]
     },
     "execution_count": 139,
     "metadata": {},
     "output_type": "execute_result"
    }
   ],
   "source": [
    "#How many titles are certified for mature audiences (e.g., R, TV-MA)?\n",
    "mature_audience = df.groupby('age_certification')[\"title\"].count()\n",
    "mature_audience['R'] + mature_audience['TV-MA']"
   ]
  },
  {
   "cell_type": "code",
   "execution_count": 141,
   "id": "c6bb1880-33ef-4079-bf25-2b2aabed3a5c",
   "metadata": {},
   "outputs": [
    {
     "data": {
      "text/plain": [
       "type\n",
       "MOVIE    6.266980\n",
       "SHOW     7.017377\n",
       "Name: imdb_score, dtype: float64"
      ]
     },
     "execution_count": 141,
     "metadata": {},
     "output_type": "execute_result"
    }
   ],
   "source": [
    "#What is the average IMDB score for movies vs. TV shows?\n",
    "df.groupby(\"type\")[\"imdb_score\"].mean()"
   ]
  },
  {
   "cell_type": "code",
   "execution_count": 229,
   "id": "8a5cc310-2aaf-456c-8175-d996d5e4b37e",
   "metadata": {},
   "outputs": [
    {
     "data": {
      "text/plain": [
       "production_countries\n",
       "['UA', 'GB', 'US']          8.3\n",
       "['CU', 'US']                8.3\n",
       "['CD', 'GB']                8.2\n",
       "['US', 'DE', 'GB']          8.1\n",
       "['GB', 'US', 'EG']          8.1\n",
       "                           ... \n",
       "['NL', 'PS', 'US', 'LB']    NaN\n",
       "['PS', 'QA']                NaN\n",
       "['SY', 'GB']                NaN\n",
       "['US', 'ZA', 'DE']          NaN\n",
       "['ZA', 'US']                NaN\n",
       "Name: imdb_score, Length: 449, dtype: float64"
      ]
     },
     "execution_count": 229,
     "metadata": {},
     "output_type": "execute_result"
    }
   ],
   "source": [
    "#Which production countries have the highest average IMDB scores?\n",
    "country_scores = df.explode('production_countries').groupby('production_countries')['imdb_score'].mean().sort_values(ascending=False)\n",
    "country_scores"
   ]
  },
  {
   "cell_type": "code",
   "execution_count": 191,
   "id": "d69f749e-2a7f-4f57-81f9-a6d7892169cc",
   "metadata": {},
   "outputs": [],
   "source": [
    "#most common genre combo?\n",
    "df['genre_combo'] = df['genres'].str.strip(\"[]\").str.replace(\"'\", \"\")\n",
    "combo_counts = df['genre_combo'].value_counts().head(5)"
   ]
  },
  {
   "cell_type": "code",
   "execution_count": 193,
   "id": "e1c50a45-8d1e-49b0-b6b4-21bd5cb6e958",
   "metadata": {},
   "outputs": [
    {
     "data": {
      "text/plain": [
       "genre_combo\n",
       "comedy           510\n",
       "drama            350\n",
       "documentation    320\n",
       "comedy, drama    141\n",
       "drama, comedy    128\n",
       "Name: count, dtype: int64"
      ]
     },
     "execution_count": 193,
     "metadata": {},
     "output_type": "execute_result"
    }
   ],
   "source": [
    "combo_counts"
   ]
  },
  {
   "cell_type": "code",
   "execution_count": 207,
   "id": "0a63f9f0-0366-4321-bb82-48b51ad59ea9",
   "metadata": {},
   "outputs": [
    {
     "data": {
      "text/html": [
       "<div>\n",
       "<style scoped>\n",
       "    .dataframe tbody tr th:only-of-type {\n",
       "        vertical-align: middle;\n",
       "    }\n",
       "\n",
       "    .dataframe tbody tr th {\n",
       "        vertical-align: top;\n",
       "    }\n",
       "\n",
       "    .dataframe thead th {\n",
       "        text-align: right;\n",
       "    }\n",
       "</style>\n",
       "<table border=\"1\" class=\"dataframe\">\n",
       "  <thead>\n",
       "    <tr style=\"text-align: right;\">\n",
       "      <th>type</th>\n",
       "      <th>MOVIE</th>\n",
       "      <th>SHOW</th>\n",
       "    </tr>\n",
       "    <tr>\n",
       "      <th>release_year</th>\n",
       "      <th></th>\n",
       "      <th></th>\n",
       "    </tr>\n",
       "  </thead>\n",
       "  <tbody>\n",
       "    <tr>\n",
       "      <th>1945</th>\n",
       "      <td>0.0</td>\n",
       "      <td>1.0</td>\n",
       "    </tr>\n",
       "    <tr>\n",
       "      <th>1953</th>\n",
       "      <td>1.0</td>\n",
       "      <td>0.0</td>\n",
       "    </tr>\n",
       "    <tr>\n",
       "      <th>1954</th>\n",
       "      <td>2.0</td>\n",
       "      <td>0.0</td>\n",
       "    </tr>\n",
       "    <tr>\n",
       "      <th>1956</th>\n",
       "      <td>1.0</td>\n",
       "      <td>0.0</td>\n",
       "    </tr>\n",
       "    <tr>\n",
       "      <th>1958</th>\n",
       "      <td>1.0</td>\n",
       "      <td>0.0</td>\n",
       "    </tr>\n",
       "    <tr>\n",
       "      <th>...</th>\n",
       "      <td>...</td>\n",
       "      <td>...</td>\n",
       "    </tr>\n",
       "    <tr>\n",
       "      <th>2018</th>\n",
       "      <td>473.0</td>\n",
       "      <td>301.0</td>\n",
       "    </tr>\n",
       "    <tr>\n",
       "      <th>2019</th>\n",
       "      <td>540.0</td>\n",
       "      <td>308.0</td>\n",
       "    </tr>\n",
       "    <tr>\n",
       "      <th>2020</th>\n",
       "      <td>499.0</td>\n",
       "      <td>306.0</td>\n",
       "    </tr>\n",
       "    <tr>\n",
       "      <th>2021</th>\n",
       "      <td>455.0</td>\n",
       "      <td>303.0</td>\n",
       "    </tr>\n",
       "    <tr>\n",
       "      <th>2022</th>\n",
       "      <td>108.0</td>\n",
       "      <td>109.0</td>\n",
       "    </tr>\n",
       "  </tbody>\n",
       "</table>\n",
       "<p>67 rows × 2 columns</p>\n",
       "</div>"
      ],
      "text/plain": [
       "type          MOVIE   SHOW\n",
       "release_year              \n",
       "1945            0.0    1.0\n",
       "1953            1.0    0.0\n",
       "1954            2.0    0.0\n",
       "1956            1.0    0.0\n",
       "1958            1.0    0.0\n",
       "...             ...    ...\n",
       "2018          473.0  301.0\n",
       "2019          540.0  308.0\n",
       "2020          499.0  306.0\n",
       "2021          455.0  303.0\n",
       "2022          108.0  109.0\n",
       "\n",
       "[67 rows x 2 columns]"
      ]
     },
     "execution_count": 207,
     "metadata": {},
     "output_type": "execute_result"
    }
   ],
   "source": [
    "#What is the distribution of content types (movies vs. TV shows) over the years?\n",
    "type_by_year = df.groupby(['release_year', 'type']).size().unstack().fillna(0)\n",
    "type_by_year"
   ]
  },
  {
   "cell_type": "code",
   "execution_count": 233,
   "id": "69801ef4-b652-4fd1-9baf-4ffe7cb6e68c",
   "metadata": {},
   "outputs": [
    {
     "data": {
      "text/plain": [
       "642"
      ]
     },
     "execution_count": 233,
     "metadata": {},
     "output_type": "execute_result"
    }
   ],
   "source": [
    "#How many titles have multiple production countries listed?\n",
    "multi_country = df[df['production_countries'].str.contains(\",\")].shape[0]\n",
    "multi_country"
   ]
  },
  {
   "cell_type": "code",
   "execution_count": null,
   "id": "2d0f0bbe-31fa-49c5-9b96-b6f02bc3e87b",
   "metadata": {},
   "outputs": [],
   "source": []
  }
 ],
 "metadata": {
  "kernelspec": {
   "display_name": "Python 3 (ipykernel)",
   "language": "python",
   "name": "python3"
  },
  "language_info": {
   "codemirror_mode": {
    "name": "ipython",
    "version": 3
   },
   "file_extension": ".py",
   "mimetype": "text/x-python",
   "name": "python",
   "nbconvert_exporter": "python",
   "pygments_lexer": "ipython3",
   "version": "3.12.4"
  }
 },
 "nbformat": 4,
 "nbformat_minor": 5
}
